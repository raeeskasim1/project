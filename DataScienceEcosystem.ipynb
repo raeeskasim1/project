{
 "cells": [
  {
   "cell_type": "markdown",
   "id": "9a4fb9ba-df9e-4381-82cb-e609c9a56a7d",
   "metadata": {},
   "source": [
    "# Data Science Tools and Ecosystem"
   ]
  },
  {
   "cell_type": "markdown",
   "id": "8cd29382-4d1e-4166-80a9-ee7880a20b12",
   "metadata": {
    "tags": []
   },
   "source": [
    "In this notebook, Data Science Tools and Ecosystem are summarized.\n"
   ]
  },
  {
   "cell_type": "markdown",
   "id": "001224bc-9282-4b04-a49b-4b45d92fe23c",
   "metadata": {},
   "source": [
    "**Objectives:**\n",
    "- markdown cells with heading styles\n",
    "- add comments to codes\n",
    "- add ordered and unordered list\n",
    "- add markdown cells\n"
   ]
  },
  {
   "cell_type": "code",
   "execution_count": null,
   "id": "07070a53-cda1-41be-991e-c31ed08c7fd6",
   "metadata": {},
   "outputs": [],
   "source": []
  },
  {
   "cell_type": "markdown",
   "id": "7585ec72-d4d1-42a1-a059-6f25f741e61d",
   "metadata": {},
   "source": [
    "Some of the popular languages that Data Scientists use are:\n",
    "1. python\n",
    "2. sql\n",
    "3. R\n"
   ]
  },
  {
   "cell_type": "markdown",
   "id": "1cb92a18-9efc-4980-a8f3-a6d4fb0d534e",
   "metadata": {
    "tags": []
   },
   "source": [
    "Some of the commonly used libraries used by Data Scientists include:\n",
    "1. numpy\n",
    "2. pandas\n",
    "3. matplotlib\n",
    "\n",
    "    \n"
   ]
  },
  {
   "cell_type": "markdown",
   "id": "8f1ed327-f648-43d1-bc90-34a26ef83707",
   "metadata": {},
   "source": [
    "| Data Science Tools |\n",
    "|--------------------|\n",
    "| anaconda |\n",
    "| jupyter |\n",
    "| r studio |\n"
   ]
  },
  {
   "cell_type": "markdown",
   "id": "b34d89dc-d82d-48ca-8df0-58207f611d5d",
   "metadata": {},
   "source": [
    "### Below are a few examples of evaluating arithmetic expressions in Python"
   ]
  },
  {
   "cell_type": "code",
   "execution_count": 10,
   "id": "6a07d298-f377-4bd3-95c2-f02769edff50",
   "metadata": {
    "tags": []
   },
   "outputs": [
    {
     "data": {
      "text/plain": [
       "17"
      ]
     },
     "execution_count": 10,
     "metadata": {},
     "output_type": "execute_result"
    }
   ],
   "source": [
    "(3*4)+5\n",
    "\n",
    "#This a simple arithmetic expression to mutiply then add integers\n"
   ]
  },
  {
   "cell_type": "code",
   "execution_count": 9,
   "id": "1d371356-bc2d-4ac0-b4dc-25247ee65cca",
   "metadata": {
    "tags": []
   },
   "outputs": [
    {
     "name": "stdout",
     "output_type": "stream",
     "text": [
      "3.3333333333333335 hours\n"
     ]
    }
   ],
   "source": [
    "minutes = 200\n",
    "hours = minutes / 60\n",
    "print(hours,\"hours\")\n",
    "#This will convert 200 minutes to hours by diving by 60"
   ]
  },
  {
   "cell_type": "markdown",
   "id": "3e14bab3-3cd4-45ef-a7ae-4b3a0fa585c7",
   "metadata": {},
   "source": [
    "## Author\n",
    "Raees Kasim K E"
   ]
  },
  {
   "cell_type": "code",
   "execution_count": null,
   "id": "024f2c10-d7e3-46eb-96a8-b5f3c2ca2ca7",
   "metadata": {},
   "outputs": [],
   "source": []
  }
 ],
 "metadata": {
  "kernelspec": {
   "display_name": "Python",
   "language": "python",
   "name": "conda-env-python-py"
  },
  "language_info": {
   "codemirror_mode": {
    "name": "ipython",
    "version": 3
   },
   "file_extension": ".py",
   "mimetype": "text/x-python",
   "name": "python",
   "nbconvert_exporter": "python",
   "pygments_lexer": "ipython3",
   "version": "3.7.12"
  }
 },
 "nbformat": 4,
 "nbformat_minor": 5
}
